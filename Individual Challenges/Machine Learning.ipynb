{
 "cells": [
  {
   "cell_type": "markdown",
   "metadata": {},
   "source": [
    "# Prescriptive Analytics & Preparing The Data\n"
   ]
  },
  {
   "cell_type": "code",
   "execution_count": 1,
   "metadata": {},
   "outputs": [
    {
     "name": "stdout",
     "output_type": "stream",
     "text": [
      "numpy version: 1.16.4\n",
      "pandas version: 0.23.4\n",
      "scikit-learn version: 0.21.2\n"
     ]
    }
   ],
   "source": [
    "import numpy as np\n",
    "import pandas as pd\n",
    "\n",
    "import sklearn as sk\n",
    "from sklearn.metrics import accuracy_score\n",
    "from sklearn.metrics import mean_squared_error, r2_score\n",
    "from pandas.plotting import scatter_matrix\n",
    "from sklearn.model_selection import train_test_split\n",
    "from sklearn.preprocessing import StandardScaler\n",
    "from sklearn.neighbors import KNeighborsClassifier\n",
    "from sklearn.metrics import confusion_matrix\n",
    "from sklearn.metrics import f1_score\n",
    "print('numpy version:', np.__version__)\n",
    "print('pandas version:', pd.__version__)\n",
    "print('scikit-learn version:', sk.__version__)\n"
   ]
  },
  {
   "cell_type": "code",
   "execution_count": 2,
   "metadata": {},
   "outputs": [],
   "source": [
    "#Inserting the datasets\n",
    "df = pd.read_csv(r\"C:\\Users\\HP\\Desktop\\Datasets/Fifa_cleaned.csv\",\n",
    "                 encoding='UTF-8', sep=',', skiprows=0, index_col=False)\n",
    "df.drop(['Number','work_rate'],axis=1,inplace=True)\n",
    "data = pd.DataFrame(df)\n",
    "df =df[df[\"age\"]<=21]\n",
    "df =df[df[\"potential\"]>60]"
   ]
  },
  {
   "cell_type": "code",
   "execution_count": 3,
   "metadata": {},
   "outputs": [
    {
     "data": {
      "text/html": [
       "<div>\n",
       "<style scoped>\n",
       "    .dataframe tbody tr th:only-of-type {\n",
       "        vertical-align: middle;\n",
       "    }\n",
       "\n",
       "    .dataframe tbody tr th {\n",
       "        vertical-align: top;\n",
       "    }\n",
       "\n",
       "    .dataframe thead th {\n",
       "        text-align: right;\n",
       "    }\n",
       "</style>\n",
       "<table border=\"1\" class=\"dataframe\">\n",
       "  <thead>\n",
       "    <tr style=\"text-align: right;\">\n",
       "      <th></th>\n",
       "      <th>name</th>\n",
       "      <th>age</th>\n",
       "      <th>nationality</th>\n",
       "      <th>overall</th>\n",
       "      <th>potential</th>\n",
       "      <th>club</th>\n",
       "      <th>value</th>\n",
       "      <th>wage</th>\n",
       "      <th>international reputation</th>\n",
       "      <th>weak foot</th>\n",
       "      <th>...</th>\n",
       "      <th>aggression</th>\n",
       "      <th>interceptions</th>\n",
       "      <th>positioning</th>\n",
       "      <th>vision</th>\n",
       "      <th>penalties</th>\n",
       "      <th>composure</th>\n",
       "      <th>marking</th>\n",
       "      <th>gkreflexes</th>\n",
       "      <th>attacking_rates</th>\n",
       "      <th>defensive_rates</th>\n",
       "    </tr>\n",
       "  </thead>\n",
       "  <tbody>\n",
       "    <tr>\n",
       "      <th>25</th>\n",
       "      <td>K. Mbappé</td>\n",
       "      <td>19</td>\n",
       "      <td>France</td>\n",
       "      <td>88</td>\n",
       "      <td>95</td>\n",
       "      <td>Paris Saint-Germain</td>\n",
       "      <td>81000000.0</td>\n",
       "      <td>100000.0</td>\n",
       "      <td>3.0</td>\n",
       "      <td>4.0</td>\n",
       "      <td>...</td>\n",
       "      <td>62.0</td>\n",
       "      <td>38.0</td>\n",
       "      <td>88.0</td>\n",
       "      <td>82.0</td>\n",
       "      <td>70.0</td>\n",
       "      <td>86.0</td>\n",
       "      <td>34.0</td>\n",
       "      <td>6.0</td>\n",
       "      <td>3</td>\n",
       "      <td>2</td>\n",
       "    </tr>\n",
       "    <tr>\n",
       "      <th>154</th>\n",
       "      <td>O. Dembélé</td>\n",
       "      <td>21</td>\n",
       "      <td>France</td>\n",
       "      <td>83</td>\n",
       "      <td>92</td>\n",
       "      <td>FC Barcelona</td>\n",
       "      <td>40000000.0</td>\n",
       "      <td>155000.0</td>\n",
       "      <td>3.0</td>\n",
       "      <td>5.0</td>\n",
       "      <td>...</td>\n",
       "      <td>54.0</td>\n",
       "      <td>36.0</td>\n",
       "      <td>79.0</td>\n",
       "      <td>84.0</td>\n",
       "      <td>75.0</td>\n",
       "      <td>75.0</td>\n",
       "      <td>42.0</td>\n",
       "      <td>13.0</td>\n",
       "      <td>3</td>\n",
       "      <td>1</td>\n",
       "    </tr>\n",
       "    <tr>\n",
       "      <th>155</th>\n",
       "      <td>Gabriel Jesus</td>\n",
       "      <td>21</td>\n",
       "      <td>Brazil</td>\n",
       "      <td>83</td>\n",
       "      <td>92</td>\n",
       "      <td>Manchester City</td>\n",
       "      <td>41000000.0</td>\n",
       "      <td>130000.0</td>\n",
       "      <td>2.0</td>\n",
       "      <td>3.0</td>\n",
       "      <td>...</td>\n",
       "      <td>73.0</td>\n",
       "      <td>32.0</td>\n",
       "      <td>88.0</td>\n",
       "      <td>77.0</td>\n",
       "      <td>78.0</td>\n",
       "      <td>82.0</td>\n",
       "      <td>53.0</td>\n",
       "      <td>15.0</td>\n",
       "      <td>3</td>\n",
       "      <td>3</td>\n",
       "    </tr>\n",
       "    <tr>\n",
       "      <th>225</th>\n",
       "      <td>M. de Ligt</td>\n",
       "      <td>18</td>\n",
       "      <td>Netherlands</td>\n",
       "      <td>82</td>\n",
       "      <td>91</td>\n",
       "      <td>Ajax</td>\n",
       "      <td>27000000.0</td>\n",
       "      <td>11000.0</td>\n",
       "      <td>2.0</td>\n",
       "      <td>4.0</td>\n",
       "      <td>...</td>\n",
       "      <td>79.0</td>\n",
       "      <td>79.0</td>\n",
       "      <td>44.0</td>\n",
       "      <td>63.0</td>\n",
       "      <td>40.0</td>\n",
       "      <td>77.0</td>\n",
       "      <td>84.0</td>\n",
       "      <td>10.0</td>\n",
       "      <td>2</td>\n",
       "      <td>2</td>\n",
       "    </tr>\n",
       "    <tr>\n",
       "      <th>227</th>\n",
       "      <td>Arthur</td>\n",
       "      <td>21</td>\n",
       "      <td>Brazil</td>\n",
       "      <td>82</td>\n",
       "      <td>90</td>\n",
       "      <td>FC Barcelona</td>\n",
       "      <td>32500000.0</td>\n",
       "      <td>125000.0</td>\n",
       "      <td>1.0</td>\n",
       "      <td>3.0</td>\n",
       "      <td>...</td>\n",
       "      <td>73.0</td>\n",
       "      <td>75.0</td>\n",
       "      <td>77.0</td>\n",
       "      <td>82.0</td>\n",
       "      <td>69.0</td>\n",
       "      <td>84.0</td>\n",
       "      <td>65.0</td>\n",
       "      <td>12.0</td>\n",
       "      <td>2</td>\n",
       "      <td>2</td>\n",
       "    </tr>\n",
       "  </tbody>\n",
       "</table>\n",
       "<p>5 rows × 45 columns</p>\n",
       "</div>"
      ],
      "text/plain": [
       "              name  age  nationality  overall  potential                 club  \\\n",
       "25       K. Mbappé   19       France       88         95  Paris Saint-Germain   \n",
       "154     O. Dembélé   21       France       83         92         FC Barcelona   \n",
       "155  Gabriel Jesus   21       Brazil       83         92      Manchester City   \n",
       "225     M. de Ligt   18  Netherlands       82         91                 Ajax   \n",
       "227         Arthur   21       Brazil       82         90         FC Barcelona   \n",
       "\n",
       "          value      wage  international reputation  weak foot  \\\n",
       "25   81000000.0  100000.0                       3.0        4.0   \n",
       "154  40000000.0  155000.0                       3.0        5.0   \n",
       "155  41000000.0  130000.0                       2.0        3.0   \n",
       "225  27000000.0   11000.0                       2.0        4.0   \n",
       "227  32500000.0  125000.0                       1.0        3.0   \n",
       "\n",
       "          ...         aggression  interceptions positioning vision penalties  \\\n",
       "25        ...               62.0           38.0        88.0   82.0      70.0   \n",
       "154       ...               54.0           36.0        79.0   84.0      75.0   \n",
       "155       ...               73.0           32.0        88.0   77.0      78.0   \n",
       "225       ...               79.0           79.0        44.0   63.0      40.0   \n",
       "227       ...               73.0           75.0        77.0   82.0      69.0   \n",
       "\n",
       "     composure  marking  gkreflexes  attacking_rates  defensive_rates  \n",
       "25        86.0     34.0         6.0                3                2  \n",
       "154       75.0     42.0        13.0                3                1  \n",
       "155       82.0     53.0        15.0                3                3  \n",
       "225       77.0     84.0        10.0                2                2  \n",
       "227       84.0     65.0        12.0                2                2  \n",
       "\n",
       "[5 rows x 45 columns]"
      ]
     },
     "execution_count": 3,
     "metadata": {},
     "output_type": "execute_result"
    }
   ],
   "source": [
    "#Changing Rates from string to numeric\n",
    "\n",
    "def Rates(r):\n",
    "    if r== 'Low':\n",
    "        return 1\n",
    "    elif r== 'Medium':\n",
    "        return 2\n",
    "    elif r== 'High':\n",
    "        return 3\n",
    "\n",
    "df['attacking_rates']= df['attacking_rates'].apply(Rates) \n",
    "df['defensive_rates']= df['defensive_rates'].apply(Rates) \n",
    "\n",
    "df.head(5)\n",
    "    \n"
   ]
  },
  {
   "cell_type": "markdown",
   "metadata": {},
   "source": [
    "# Start Predicting the potential rate of a player"
   ]
  },
  {
   "cell_type": "code",
   "execution_count": 25,
   "metadata": {},
   "outputs": [
    {
     "data": {
      "image/png": "[encoded data removed]",
      "text/plain": [
       "<Figure size 432x288 with 2 Axes>"
      ]
     },
     "metadata": {},
     "output_type": "display_data"
    }
   ],
   "source": [
    "## Try to use correlation heat map to see how all the different combined features\n",
    "#in this heat map it is explain that overall have high corelattion between potential outcome\n",
    "import seaborn as sns\n",
    "import matplotlib.pyplot as plt\n",
    "cor=['age','overall','potential']\n",
    "cm = np.corrcoef(df[cor].values,rowvar=0)\n",
    "sns.set(font_scale=1.5)\n",
    "hm = sns.heatmap(cm,\n",
    "    cbar=True,\n",
    "    annot=True,\n",
    "    square=True,\n",
    "    fmt='.2f',\n",
    "    annot_kws={'size': 15},\n",
    "    yticklabels=cor,\n",
    "    xticklabels=cor)\n",
    "plt.show()"
   ]
  },
  {
   "cell_type": "code",
   "execution_count": 5,
   "metadata": {},
   "outputs": [],
   "source": [
    "#Lock the datasets\n",
    "x = df.loc[:,['age','overall']]\n",
    "y = df.loc[:,['potential']]\n"
   ]
  },
  {
   "cell_type": "code",
   "execution_count": 6,
   "metadata": {},
   "outputs": [
    {
     "name": "stdout",
     "output_type": "stream",
     "text": [
      "Train shape: (3499, 2) (3499, 1)\n",
      "Test shape: (1167, 2) (1167, 1)\n"
     ]
    }
   ],
   "source": [
    "#feature Scalling and splitting the datasets\n",
    "x_train, x_test, y_train, y_test = train_test_split(x, y, test_size=.25)\n",
    "\n",
    "sc_x =StandardScaler()\n",
    "sc_x.fit(x_train)\n",
    "x_train= sc_x.fit_transform(x_train)\n",
    "x_test= sc_x.transform(x_test)\n",
    "print('Train shape:', x_train.shape, y_train.shape)\n",
    "print('Test shape:', x_test.shape, y_test.shape)"
   ]
  },
  {
   "cell_type": "code",
   "execution_count": 7,
   "metadata": {},
   "outputs": [
    {
     "data": {
      "text/plain": [
       "34.161381705077446"
      ]
     },
     "execution_count": 7,
     "metadata": {},
     "output_type": "execute_result"
    }
   ],
   "source": [
    "import math\n",
    "math.sqrt(len(y_test))"
   ]
  },
  {
   "cell_type": "code",
   "execution_count": 8,
   "metadata": {},
   "outputs": [
    {
     "name": "stderr",
     "output_type": "stream",
     "text": [
      "C:\\Users\\HP\\Anaconda3\\lib\\site-packages\\ipykernel_launcher.py:6: DataConversionWarning: A column-vector y was passed when a 1d array was expected. Please change the shape of y to (n_samples, ), for example using ravel().\n",
      "  \n"
     ]
    },
    {
     "data": {
      "text/plain": [
       "array([72, 76, 79, ..., 81, 65, 76], dtype=int64)"
      ]
     },
     "execution_count": 8,
     "metadata": {},
     "output_type": "execute_result"
    }
   ],
   "source": [
    "#Define the model with KNN\n",
    "classifier= KNeighborsClassifier(n_neighbors=11,p=2,metric='euclidean')\n",
    "\n",
    "#Predict the test result\n",
    "\n",
    "classifier.fit(x_train,y_train)\n",
    "y_pred= classifier.predict(x_test)\n",
    "y_pred"
   ]
  },
  {
   "cell_type": "code",
   "execution_count": 9,
   "metadata": {},
   "outputs": [
    {
     "name": "stdout",
     "output_type": "stream",
     "text": [
      "F1 Score\n",
      "0.14224507283633248\n",
      "Accuracy Score\n",
      "0.14224507283633248\n"
     ]
    },
    {
     "name": "stderr",
     "output_type": "stream",
     "text": [
      "C:\\Users\\HP\\Anaconda3\\lib\\site-packages\\sklearn\\metrics\\classification.py:1259: UserWarning: Note that pos_label (set to 'positive') is ignored when average != 'binary' (got 'micro'). You may use labels=[pos_label] to specify a single positive class.\n",
      "  % (pos_label, average), UserWarning)\n"
     ]
    }
   ],
   "source": [
    "#Evaluate Model\n",
    "#Prediction Result\n",
    "e = confusion_matrix(y_test,y_pred)\n",
    "print('F1 Score')\n",
    "print((f1_score(y_test,y_pred,pos_label='positive',average='micro')))\n",
    "print('Accuracy Score')\n",
    "print((accuracy_score(y_test,y_pred)))\n",
    "\n"
   ]
  },
  {
   "cell_type": "code",
   "execution_count": 10,
   "metadata": {},
   "outputs": [
    {
     "name": "stdout",
     "output_type": "stream",
     "text": [
      "Player Potential number 1 :\n",
      "Predict Player potential : [88]\n",
      "Player Potential number 2 :\n",
      "Predict Player potential : [75]\n",
      "Player Potential number 3 :\n",
      "Predict Player potential : [86]\n",
      "Player Potential number 4 :\n",
      "Predict Player potential : [89]\n",
      "Player Potential number 5 :\n",
      "Predict Player potential : [75]\n"
     ]
    }
   ],
   "source": [
    "#Predict a player potential with Dummy Data\n",
    "\n",
    "#Player number 1\n",
    "print(\"Player Potential number 1 :\")\n",
    "#A player age is 17 ans overall is 75 \n",
    "player1 = sc_x.transform([['17','75']])\n",
    "print(\"Predict Player potential :\",classifier.predict(player1))\n",
    "\n",
    "#Player Number 2\n",
    "print(\"Player Potential number 2 :\")\n",
    "#A player age is 20 and overall is 68\n",
    "player2 = sc_x.transform([['20','68']])\n",
    "print(\"Predict Player potential :\",classifier.predict(player2))\n",
    "\n",
    "#Player Number 3\n",
    "print(\"Player Potential number 3 :\")\n",
    "#A player age is 19 and overall is 80\n",
    "player3 = sc_x.transform([['19','80']])\n",
    "print(\"Predict Player potential :\",classifier.predict(player3))\n",
    "\n",
    "#Player Number 4\n",
    "print(\"Player Potential number 4 :\")\n",
    "#A player age is 21 and overall is 84\n",
    "player4 = sc_x.transform([['21','83']])\n",
    "print(\"Predict Player potential :\",classifier.predict(player4))\n",
    "\n",
    "#Player Number 5\n",
    "print(\"Player Potential number 5 :\")\n",
    "#A player age is 16 and overall is 60\n",
    "player5 = sc_x.transform([['16','60']])\n",
    "print(\"Predict Player potential :\",classifier.predict(player5))\n",
    "\n",
    "\n"
   ]
  },
  {
   "cell_type": "markdown",
   "metadata": {},
   "source": [
    "# Predicting Attacking Rates of a player"
   ]
  },
  {
   "cell_type": "code",
   "execution_count": 11,
   "metadata": {},
   "outputs": [],
   "source": [
    "## Predicting Attacking Rates of a player \n",
    "#Lock the datasets\n",
    "df1 = df.copy()\n",
    "pd.options.display.float_format = '{:,.0f}'.format\n",
    "#Lock the datasets\n",
    "x1 = df1.loc[:,['finishing','shotpower','headingaccuracy']]\n",
    "y1 = df1.loc[:,['attacking_rates']]"
   ]
  },
  {
   "cell_type": "code",
   "execution_count": 12,
   "metadata": {},
   "outputs": [
    {
     "data": {
      "image/png": "[encoded data removed]",
      "text/plain": [
       "<Figure size 432x288 with 2 Axes>"
      ]
     },
     "metadata": {},
     "output_type": "display_data"
    }
   ],
   "source": [
    "##Try to see the correlation using heat map\n",
    "##As you can see in the map below finishing have the largest corelation wiht attacking_rates\n",
    "cor1=['finishing','shotpower','headingaccuracy','attacking_rates']\n",
    "cm1= np.corrcoef(df[cor1].values,rowvar=0)\n",
    "sns.set(font_scale=1.5)\n",
    "hm1 = sns.heatmap(cm1,\n",
    "    cbar=True,\n",
    "    annot=True,\n",
    "    square=True,\n",
    "    fmt='.2f',\n",
    "    annot_kws={'size': 15},\n",
    "    yticklabels=cor1,\n",
    "    xticklabels=cor1)\n",
    "plt.show()"
   ]
  },
  {
   "cell_type": "code",
   "execution_count": 13,
   "metadata": {},
   "outputs": [
    {
     "name": "stdout",
     "output_type": "stream",
     "text": [
      "Train shape: (3499, 3) (3499, 1)\n",
      "Test shape: (1167, 3) (1167, 1)\n"
     ]
    }
   ],
   "source": [
    "#feature Scalling and splitting the datasets\n",
    "x1_train, x1_test, y1_train, y1_test = train_test_split(x1, y1, test_size=.25)\n",
    "\n",
    "sc_x1 =StandardScaler()\n",
    "sc_x1.fit(x1_train)\n",
    "x1_train= sc_x1.fit_transform(x1_train)\n",
    "x1_test= sc_x1.transform(x1_test)\n",
    "print('Train shape:', x1_train.shape, y1_train.shape)\n",
    "print('Test shape:', x1_test.shape, y1_test.shape)"
   ]
  },
  {
   "cell_type": "code",
   "execution_count": 14,
   "metadata": {},
   "outputs": [
    {
     "name": "stderr",
     "output_type": "stream",
     "text": [
      "C:\\Users\\HP\\Anaconda3\\lib\\site-packages\\ipykernel_launcher.py:6: DataConversionWarning: A column-vector y was passed when a 1d array was expected. Please change the shape of y to (n_samples, ), for example using ravel().\n",
      "  \n"
     ]
    },
    {
     "data": {
      "text/plain": [
       "array([2, 2, 2, ..., 2, 2, 3], dtype=int64)"
      ]
     },
     "execution_count": 14,
     "metadata": {},
     "output_type": "execute_result"
    }
   ],
   "source": [
    "#Define the model with KNN\n",
    "classifier1= KNeighborsClassifier(n_neighbors=11,p=2,metric='euclidean')\n",
    "\n",
    "#Predict the test result\n",
    "\n",
    "classifier1.fit(x1_train,y1_train)\n",
    "y1_pred= classifier1.predict(x1_test)\n",
    "y1_pred"
   ]
  },
  {
   "cell_type": "code",
   "execution_count": 15,
   "metadata": {},
   "outputs": [
    {
     "name": "stdout",
     "output_type": "stream",
     "text": [
      "F1 Score\n",
      "0.7352185089974294\n",
      "Accuracy Score\n",
      "0.7352185089974294\n"
     ]
    },
    {
     "name": "stderr",
     "output_type": "stream",
     "text": [
      "C:\\Users\\HP\\Anaconda3\\lib\\site-packages\\sklearn\\metrics\\classification.py:1259: UserWarning: Note that pos_label (set to 'positive') is ignored when average != 'binary' (got 'micro'). You may use labels=[pos_label] to specify a single positive class.\n",
      "  % (pos_label, average), UserWarning)\n"
     ]
    }
   ],
   "source": [
    "#Evaluate Model\n",
    "#Prediction Result\n",
    "e1 = confusion_matrix(y1_test,y1_pred)\n",
    "print('F1 Score')\n",
    "print(f1_score(y1_test,y1_pred,pos_label='positive',average='micro'))  \n",
    "print('Accuracy Score')\n",
    "print(accuracy_score(y1_test,y1_pred))"
   ]
  },
  {
   "cell_type": "code",
   "execution_count": 16,
   "metadata": {},
   "outputs": [
    {
     "name": "stdout",
     "output_type": "stream",
     "text": [
      "Player  number 1 :\n",
      "Predict Player Attacking_rates : [3]\n",
      "Player  number 3 :\n",
      "Predict Player  Attacking_rates : [2]\n",
      "Player  number 3 :\n",
      "Predict Player  Attacking_rates : [2]\n"
     ]
    }
   ],
   "source": [
    "##Start predicting attacking rates of a player\n",
    "\n",
    "#Player number 1\n",
    "print(\"Player  number 1 :\")\n",
    "#A player have finishing ,shot power , heading accuracy\n",
    "player1 = sc_x1.transform([['85','76','83']])\n",
    "print(\"Predict Player Attacking_rates :\",classifier1.predict(player1))\n",
    "\n",
    "#Player number 2\n",
    "print(\"Player  number 3 :\")\n",
    "#A player have finishing ,shot power , heading accuracy\n",
    "player2 = sc_x1.transform([['33','52','74']])\n",
    "print(\"Predict Player  Attacking_rates :\",classifier1.predict(player2))\n",
    "\n",
    "#Player number 3\n",
    "print(\"Player  number 3 :\")\n",
    "#A player have finishing ,shot power , heading accuracy\n",
    "player3 = sc_x1.transform([['50','65','44']])\n",
    "print(\"Predict Player  Attacking_rates :\",classifier1.predict(player3))\n"
   ]
  },
  {
   "cell_type": "markdown",
   "metadata": {},
   "source": [
    "# Predicting accuracy score with decision Tree Classifier"
   ]
  },
  {
   "cell_type": "code",
   "execution_count": 17,
   "metadata": {},
   "outputs": [
    {
     "data": {
      "text/plain": [
       "DecisionTreeClassifier(class_weight=None, criterion='entropy', max_depth=5,\n",
       "                       max_features=None, max_leaf_nodes=None,\n",
       "                       min_impurity_decrease=0.0, min_impurity_split=None,\n",
       "                       min_samples_leaf=5, min_samples_split=50,\n",
       "                       min_weight_fraction_leaf=0.0, presort=False,\n",
       "                       random_state=None, splitter='best')"
      ]
     },
     "execution_count": 17,
     "metadata": {},
     "output_type": "execute_result"
    }
   ],
   "source": [
    "## Try to do decision tree with potential Player \n",
    "from sklearn.tree import DecisionTreeClassifier\n",
    "\n",
    "x2_train, x2_test, y2_train, y2_test = train_test_split(x, y, test_size=.25)\n",
    "clf=DecisionTreeClassifier(criterion = \"entropy\", splitter=\"best\", max_depth=5, min_samples_split=50, min_samples_leaf=5)\n",
    "clf.fit(x2_train, y2_train)"
   ]
  },
  {
   "cell_type": "code",
   "execution_count": 18,
   "metadata": {},
   "outputs": [
    {
     "name": "stdout",
     "output_type": "stream",
     "text": [
      "[75 71 85 ... 66 68 68]\n"
     ]
    }
   ],
   "source": [
    "#Predicting the dataset\n",
    "y2_pred =clf.predict(x2_test)\n",
    "\n",
    "print(y2_pred)"
   ]
  },
  {
   "cell_type": "code",
   "execution_count": 19,
   "metadata": {},
   "outputs": [
    {
     "name": "stdout",
     "output_type": "stream",
     "text": [
      "[[ 0  3  0  9  2  1  0  0  0  0  0  0  0  0  0  0  0  0  0  0  0  0  0  0\n",
      "   0  0  0  0  0  0  0]\n",
      " [ 0  3  0 10  3  0  1  0  0  0  0  0  0  0  0  0  0  0  0  0  0  0  0  0\n",
      "   0  0  0  0  0  0  0]\n",
      " [ 0  2  0  4  5  0  0  3  0  0  0  0  0  0  0  0  0  0  0  0  0  0  0  0\n",
      "   0  0  0  0  0  0  0]\n",
      " [ 0  3  0 11  4  0  6 14  1  0  0  0  0  0  0  0  0  0  0  0  0  0  0  0\n",
      "   0  0  0  0  0  0  0]\n",
      " [ 0  1  0  5 11  0  6 16  0  0  0  0  0  0  0  0  0  0  0  0  0  0  0  0\n",
      "   0  0  0  0  0  0  0]\n",
      " [ 0  0  0  9  5  4  5 15  2  0  2  0  0  3  0  0  0  0  0  0  0  0  0  0\n",
      "   0  0  0  0  0  0  0]\n",
      " [ 0  2  0  4  6  4 13 18  1  0  1  0  2  0  0  0  0  0  0  0  0  0  0  0\n",
      "   0  0  0  0  0  0  0]\n",
      " [ 0  0  0  4  3  0  8 20  4  0  0  1  3  1  2  0  0  0  0  0  0  0  0  0\n",
      "   0  0  0  0  0  0  0]\n",
      " [ 0  0  0  3  4  1  5 24  3  0  1  1 15  4  3  2  0  0  0  0  0  0  0  0\n",
      "   0  0  0  0  0  0  0]\n",
      " [ 0  0  0  2  4  0  5 24  8  0  2  3 14  4  2  1  0  0  0  0  0  0  0  0\n",
      "   0  0  0  0  0  0  0]\n",
      " [ 0  0  0  1  1  0  4 21  2  0  5  1 18  1 14  0  0  0  0  0  0  0  0  0\n",
      "   0  0  0  0  0  0  0]\n",
      " [ 0  0  0  0  0  0  0 15  2  0  6  2 19  5 14  3  2  0  1  0  0  0  0  0\n",
      "   0  0  0  0  0  0  0]\n",
      " [ 0  0  0  0  0  2  1 11  2  0  4  1 16  2 21  3  2  0  0  0  0  0  0  0\n",
      "   0  0  0  0  0  0  0]\n",
      " [ 0  0  0  0  0  2  0  8  1  0  6  2 19  1 24  3 10  0  0  0  0  0  0  0\n",
      "   0  0  0  0  0  0  0]\n",
      " [ 0  0  0  0  0  0  0  2  0  0  2  4  7  2 38  5 10  0  4  0  0  0  0  0\n",
      "   0  0  0  0  0  0  0]\n",
      " [ 0  0  0  0  0  0  0  2  0  0  0  4  8  3 24  1 12  0  3  0  0  0  0  0\n",
      "   0  0  0  0  0  0  0]\n",
      " [ 0  0  0  0  0  0  0  1  0  0  0  2  2  1 16  3  9  0  6  2  0  0  0  0\n",
      "   0  0  0  0  0  0  0]\n",
      " [ 0  0  0  0  0  0  0  0  0  0  0  2  0  1 20  8 22  0  7  4  0  0  0  0\n",
      "   0  0  0  0  0  0  0]\n",
      " [ 0  0  0  0  0  0  0  0  0  0  0  0  0  0 11  1 21  0  5 10  1  0  0  0\n",
      "   0  0  0  0  0  0  0]\n",
      " [ 0  0  0  0  0  0  0  0  0  0  0  0  0  1  6  1 20  0  8  8  0  0  0  0\n",
      "   1  0  0  0  0  0  0]\n",
      " [ 0  0  0  0  0  0  0  0  0  0  0  0  0  0  5  0  9  0  7 10  1  0  0  0\n",
      "   0  0  0  0  0  0  0]\n",
      " [ 0  0  0  0  0  0  0  0  0  0  0  0  0  0  1  0  5  0  5  8  3  0  0  1\n",
      "   0  0  0  0  0  0  0]\n",
      " [ 0  0  0  0  0  0  0  0  0  0  0  0  0  0  1  0  4  0  7 12  0  0  0  2\n",
      "   2  0  0  0  0  0  0]\n",
      " [ 0  0  0  0  0  0  0  0  0  0  0  0  0  0  0  0  3  0  5  9  4  0  0  1\n",
      "   4  0  0  0  0  0  0]\n",
      " [ 0  0  0  0  0  0  0  0  0  0  0  0  0  0  0  0  0  0  0  7  1  0  0  4\n",
      "   4  0  0  0  0  0  0]\n",
      " [ 0  0  0  0  0  0  0  0  0  0  0  0  0  0  0  0  0  0  3  0  1  0  0  0\n",
      "  11  0  0  0  1  0  0]\n",
      " [ 0  0  0  0  0  0  0  0  0  0  0  0  0  0  0  0  0  0  1  0  0  0  0  1\n",
      "   3  0  0  0  2  0  0]\n",
      " [ 0  0  0  0  0  0  0  0  0  0  0  0  0  0  0  0  0  0  1  0  0  0  0  1\n",
      "   3  0  0  0  0  0  0]\n",
      " [ 0  0  0  0  0  0  0  0  0  0  0  0  0  0  0  0  0  0  0  0  0  0  0  0\n",
      "   1  0  0  0  0  0  0]\n",
      " [ 0  0  0  0  0  0  0  0  0  0  0  0  0  0  0  0  0  0  0  0  0  0  0  0\n",
      "   1  0  0  0  1  0  0]\n",
      " [ 0  0  0  0  0  0  0  0  0  0  0  0  0  0  0  0  0  0  0  0  0  0  0  0\n",
      "   0  0  0  0  1  0  0]]\n",
      "              precision    recall  f1-score   support\n",
      "\n",
      "          61       0.00      0.00      0.00        15\n",
      "          62       0.21      0.18      0.19        17\n",
      "          63       0.00      0.00      0.00        14\n",
      "          64       0.18      0.28      0.22        39\n",
      "          65       0.23      0.28      0.25        39\n",
      "          66       0.29      0.09      0.14        45\n",
      "          67       0.24      0.25      0.25        51\n",
      "          68       0.10      0.43      0.17        46\n",
      "          69       0.12      0.05      0.07        66\n",
      "          70       0.00      0.00      0.00        69\n",
      "          71       0.17      0.07      0.10        68\n",
      "          72       0.09      0.03      0.04        69\n",
      "          73       0.13      0.25      0.17        65\n",
      "          74       0.03      0.01      0.02        76\n",
      "          75       0.19      0.51      0.28        74\n",
      "          76       0.03      0.02      0.02        57\n",
      "          77       0.07      0.21      0.11        42\n",
      "          78       0.00      0.00      0.00        64\n",
      "          79       0.08      0.10      0.09        49\n",
      "          80       0.11      0.18      0.14        45\n",
      "          81       0.09      0.03      0.05        32\n",
      "          82       0.00      0.00      0.00        23\n",
      "          83       0.00      0.00      0.00        28\n",
      "          84       0.10      0.04      0.06        26\n",
      "          85       0.13      0.25      0.17        16\n",
      "          86       0.00      0.00      0.00        16\n",
      "          87       0.00      0.00      0.00         7\n",
      "          88       0.00      0.00      0.00         5\n",
      "          89       0.00      0.00      0.00         1\n",
      "          90       0.00      0.00      0.00         2\n",
      "          93       0.00      0.00      0.00         1\n",
      "\n",
      "    accuracy                           0.13      1167\n",
      "   macro avg       0.08      0.11      0.08      1167\n",
      "weighted avg       0.10      0.13      0.10      1167\n",
      "\n"
     ]
    },
    {
     "name": "stderr",
     "output_type": "stream",
     "text": [
      "C:\\Users\\HP\\Anaconda3\\lib\\site-packages\\sklearn\\metrics\\classification.py:1437: UndefinedMetricWarning: Precision and F-score are ill-defined and being set to 0.0 in labels with no predicted samples.\n",
      "  'precision', 'predicted', average, warn_for)\n"
     ]
    }
   ],
   "source": [
    "#Accuracy score & Evaluating Model\n",
    "from sklearn.metrics import classification_report, confusion_matrix\n",
    "print(confusion_matrix(y2_test, y2_pred))\n",
    "print(classification_report(y2_test, y2_pred))"
   ]
  },
  {
   "cell_type": "markdown",
   "metadata": {},
   "source": [
    "# Try to predict using Decision Tree Regression"
   ]
  },
  {
   "cell_type": "code",
   "execution_count": 20,
   "metadata": {},
   "outputs": [
    {
     "data": {
      "text/html": [
       "<div>\n",
       "<style scoped>\n",
       "    .dataframe tbody tr th:only-of-type {\n",
       "        vertical-align: middle;\n",
       "    }\n",
       "\n",
       "    .dataframe tbody tr th {\n",
       "        vertical-align: top;\n",
       "    }\n",
       "\n",
       "    .dataframe thead th {\n",
       "        text-align: right;\n",
       "    }\n",
       "</style>\n",
       "<table border=\"1\" class=\"dataframe\">\n",
       "  <thead>\n",
       "    <tr style=\"text-align: right;\">\n",
       "      <th></th>\n",
       "      <th>age</th>\n",
       "      <th>overall</th>\n",
       "      <th>potential</th>\n",
       "      <th>value</th>\n",
       "      <th>wage</th>\n",
       "      <th>international reputation</th>\n",
       "      <th>weak foot</th>\n",
       "      <th>skill moves</th>\n",
       "      <th>body type</th>\n",
       "      <th>crossing</th>\n",
       "      <th>...</th>\n",
       "      <th>aggression</th>\n",
       "      <th>interceptions</th>\n",
       "      <th>positioning</th>\n",
       "      <th>vision</th>\n",
       "      <th>penalties</th>\n",
       "      <th>composure</th>\n",
       "      <th>marking</th>\n",
       "      <th>gkreflexes</th>\n",
       "      <th>attacking_rates</th>\n",
       "      <th>defensive_rates</th>\n",
       "    </tr>\n",
       "  </thead>\n",
       "  <tbody>\n",
       "    <tr>\n",
       "      <th>count</th>\n",
       "      <td>4,666</td>\n",
       "      <td>4,666</td>\n",
       "      <td>4,666</td>\n",
       "      <td>4,642</td>\n",
       "      <td>4,642</td>\n",
       "      <td>4,666</td>\n",
       "      <td>4,666</td>\n",
       "      <td>4,666</td>\n",
       "      <td>4,666</td>\n",
       "      <td>4,666</td>\n",
       "      <td>...</td>\n",
       "      <td>4,666</td>\n",
       "      <td>4,666</td>\n",
       "      <td>4,666</td>\n",
       "      <td>4,666</td>\n",
       "      <td>4,666</td>\n",
       "      <td>4,666</td>\n",
       "      <td>4,666</td>\n",
       "      <td>4,666</td>\n",
       "      <td>4,666</td>\n",
       "      <td>4,666</td>\n",
       "    </tr>\n",
       "    <tr>\n",
       "      <th>mean</th>\n",
       "      <td>20</td>\n",
       "      <td>61</td>\n",
       "      <td>73</td>\n",
       "      <td>1,180,330</td>\n",
       "      <td>4,242</td>\n",
       "      <td>1</td>\n",
       "      <td>3</td>\n",
       "      <td>2</td>\n",
       "      <td>2</td>\n",
       "      <td>45</td>\n",
       "      <td>...</td>\n",
       "      <td>49</td>\n",
       "      <td>40</td>\n",
       "      <td>46</td>\n",
       "      <td>49</td>\n",
       "      <td>45</td>\n",
       "      <td>52</td>\n",
       "      <td>42</td>\n",
       "      <td>15</td>\n",
       "      <td>2</td>\n",
       "      <td>2</td>\n",
       "    </tr>\n",
       "    <tr>\n",
       "      <th>std</th>\n",
       "      <td>1</td>\n",
       "      <td>6</td>\n",
       "      <td>6</td>\n",
       "      <td>3,006,853</td>\n",
       "      <td>8,855</td>\n",
       "      <td>0</td>\n",
       "      <td>1</td>\n",
       "      <td>1</td>\n",
       "      <td>1</td>\n",
       "      <td>16</td>\n",
       "      <td>...</td>\n",
       "      <td>15</td>\n",
       "      <td>19</td>\n",
       "      <td>18</td>\n",
       "      <td>13</td>\n",
       "      <td>14</td>\n",
       "      <td>10</td>\n",
       "      <td>18</td>\n",
       "      <td>15</td>\n",
       "      <td>0</td>\n",
       "      <td>0</td>\n",
       "    </tr>\n",
       "    <tr>\n",
       "      <th>min</th>\n",
       "      <td>16</td>\n",
       "      <td>46</td>\n",
       "      <td>61</td>\n",
       "      <td>40,000</td>\n",
       "      <td>1,000</td>\n",
       "      <td>1</td>\n",
       "      <td>1</td>\n",
       "      <td>1</td>\n",
       "      <td>1</td>\n",
       "      <td>6</td>\n",
       "      <td>...</td>\n",
       "      <td>12</td>\n",
       "      <td>3</td>\n",
       "      <td>2</td>\n",
       "      <td>10</td>\n",
       "      <td>5</td>\n",
       "      <td>12</td>\n",
       "      <td>5</td>\n",
       "      <td>1</td>\n",
       "      <td>1</td>\n",
       "      <td>1</td>\n",
       "    </tr>\n",
       "    <tr>\n",
       "      <th>25%</th>\n",
       "      <td>19</td>\n",
       "      <td>56</td>\n",
       "      <td>69</td>\n",
       "      <td>170,000</td>\n",
       "      <td>1,000</td>\n",
       "      <td>1</td>\n",
       "      <td>3</td>\n",
       "      <td>2</td>\n",
       "      <td>1</td>\n",
       "      <td>34</td>\n",
       "      <td>...</td>\n",
       "      <td>36</td>\n",
       "      <td>21</td>\n",
       "      <td>37</td>\n",
       "      <td>40</td>\n",
       "      <td>38</td>\n",
       "      <td>45</td>\n",
       "      <td>26</td>\n",
       "      <td>8</td>\n",
       "      <td>2</td>\n",
       "      <td>2</td>\n",
       "    </tr>\n",
       "    <tr>\n",
       "      <th>50%</th>\n",
       "      <td>20</td>\n",
       "      <td>61</td>\n",
       "      <td>73</td>\n",
       "      <td>400,000</td>\n",
       "      <td>1,000</td>\n",
       "      <td>1</td>\n",
       "      <td>3</td>\n",
       "      <td>2</td>\n",
       "      <td>2</td>\n",
       "      <td>47</td>\n",
       "      <td>...</td>\n",
       "      <td>50</td>\n",
       "      <td>42</td>\n",
       "      <td>51</td>\n",
       "      <td>50</td>\n",
       "      <td>46</td>\n",
       "      <td>52</td>\n",
       "      <td>45</td>\n",
       "      <td>11</td>\n",
       "      <td>2</td>\n",
       "      <td>2</td>\n",
       "    </tr>\n",
       "    <tr>\n",
       "      <th>75%</th>\n",
       "      <td>21</td>\n",
       "      <td>65</td>\n",
       "      <td>78</td>\n",
       "      <td>875,000</td>\n",
       "      <td>4,000</td>\n",
       "      <td>1</td>\n",
       "      <td>3</td>\n",
       "      <td>3</td>\n",
       "      <td>2</td>\n",
       "      <td>57</td>\n",
       "      <td>...</td>\n",
       "      <td>60</td>\n",
       "      <td>57</td>\n",
       "      <td>58</td>\n",
       "      <td>58</td>\n",
       "      <td>55</td>\n",
       "      <td>59</td>\n",
       "      <td>57</td>\n",
       "      <td>13</td>\n",
       "      <td>2</td>\n",
       "      <td>2</td>\n",
       "    </tr>\n",
       "    <tr>\n",
       "      <th>max</th>\n",
       "      <td>21</td>\n",
       "      <td>88</td>\n",
       "      <td>95</td>\n",
       "      <td>81,000,000</td>\n",
       "      <td>155,000</td>\n",
       "      <td>3</td>\n",
       "      <td>5</td>\n",
       "      <td>5</td>\n",
       "      <td>3</td>\n",
       "      <td>83</td>\n",
       "      <td>...</td>\n",
       "      <td>94</td>\n",
       "      <td>85</td>\n",
       "      <td>88</td>\n",
       "      <td>85</td>\n",
       "      <td>82</td>\n",
       "      <td>86</td>\n",
       "      <td>84</td>\n",
       "      <td>88</td>\n",
       "      <td>3</td>\n",
       "      <td>3</td>\n",
       "    </tr>\n",
       "  </tbody>\n",
       "</table>\n",
       "<p>8 rows × 39 columns</p>\n",
       "</div>"
      ],
      "text/plain": [
       "        age  overall  potential      value    wage  international reputation  \\\n",
       "count 4,666    4,666      4,666      4,642   4,642                     4,666   \n",
       "mean     20       61         73  1,180,330   4,242                         1   \n",
       "std       1        6          6  3,006,853   8,855                         0   \n",
       "min      16       46         61     40,000   1,000                         1   \n",
       "25%      19       56         69    170,000   1,000                         1   \n",
       "50%      20       61         73    400,000   1,000                         1   \n",
       "75%      21       65         78    875,000   4,000                         1   \n",
       "max      21       88         95 81,000,000 155,000                         3   \n",
       "\n",
       "       weak foot  skill moves  body type  crossing       ...         \\\n",
       "count      4,666        4,666      4,666     4,666       ...          \n",
       "mean           3            2          2        45       ...          \n",
       "std            1            1          1        16       ...          \n",
       "min            1            1          1         6       ...          \n",
       "25%            3            2          1        34       ...          \n",
       "50%            3            2          2        47       ...          \n",
       "75%            3            3          2        57       ...          \n",
       "max            5            5          3        83       ...          \n",
       "\n",
       "       aggression  interceptions  positioning  vision  penalties  composure  \\\n",
       "count       4,666          4,666        4,666   4,666      4,666      4,666   \n",
       "mean           49             40           46      49         45         52   \n",
       "std            15             19           18      13         14         10   \n",
       "min            12              3            2      10          5         12   \n",
       "25%            36             21           37      40         38         45   \n",
       "50%            50             42           51      50         46         52   \n",
       "75%            60             57           58      58         55         59   \n",
       "max            94             85           88      85         82         86   \n",
       "\n",
       "       marking  gkreflexes  attacking_rates  defensive_rates  \n",
       "count    4,666       4,666            4,666            4,666  \n",
       "mean        42          15                2                2  \n",
       "std         18          15                0                0  \n",
       "min          5           1                1                1  \n",
       "25%         26           8                2                2  \n",
       "50%         45          11                2                2  \n",
       "75%         57          13                2                2  \n",
       "max         84          88                3                3  \n",
       "\n",
       "[8 rows x 39 columns]"
      ]
     },
     "execution_count": 20,
     "metadata": {},
     "output_type": "execute_result"
    }
   ],
   "source": [
    "df.describe()"
   ]
  },
  {
   "cell_type": "code",
   "execution_count": 21,
   "metadata": {},
   "outputs": [],
   "source": [
    "#Training the data\n",
    "x3_train, x3_test, y3_train, y3_test = train_test_split(x, y, test_size=.25)"
   ]
  },
  {
   "cell_type": "code",
   "execution_count": 22,
   "metadata": {},
   "outputs": [],
   "source": [
    "#Using Regressor Method\n",
    "\n",
    "from sklearn.linear_model import LinearRegression\n",
    "regressor = LinearRegression()\n",
    "reg =regressor.fit(x3_train, y3_train)"
   ]
  },
  {
   "cell_type": "code",
   "execution_count": 23,
   "metadata": {},
   "outputs": [
    {
     "name": "stdout",
     "output_type": "stream",
     "text": [
      "[[69.06506243]\n",
      " [73.55115085]\n",
      " [75.27846316]\n",
      " ...\n",
      " [78.26098278]\n",
      " [79.98829509]\n",
      " [77.34139075]]\n"
     ]
    }
   ],
   "source": [
    "#Try to make prediction by using predict method\n",
    "y3_pred = reg.predict(x3_test)\n",
    "print(y3_pred)"
   ]
  },
  {
   "cell_type": "code",
   "execution_count": 24,
   "metadata": {},
   "outputs": [
    {
     "name": "stdout",
     "output_type": "stream",
     "text": [
      "Mean Absolute Error: 1.9752509171164714\n",
      "Root Mean Squared Error: 2.440035312179004\n",
      "R2 accuracy 0.8115779667854733\n"
     ]
    }
   ],
   "source": [
    "##Evaluate the prediction\n",
    "from sklearn import metrics\n",
    "print('Mean Absolute Error:', metrics.mean_absolute_error(y3_test, y3_pred))\n",
    "print('Root Mean Squared Error:', np.sqrt(metrics.mean_squared_error(y3_test, y3_pred)))\n",
    "r_squarev = reg.score(x3_test, y3_test)\n",
    "print(\"R2 accuracy\", r_squarev)\n",
    "##the mean absolute error for our algorithm is 2.12, which is less than 10 percent of the mean of all the values in \n",
    "##the 'potential' column.This means that our algorithm did a fine prediction job."
   ]
  },
  {
   "cell_type": "code",
   "execution_count": 1,
   "metadata": {},
   "outputs": [
    {
     "ename": "NameError",
     "evalue": "name 'a' is not defined",
     "output_type": "error",
     "traceback": [
      "\u001b[1;31m---------------------------------------------------------------------------\u001b[0m",
      "\u001b[1;31mNameError\u001b[0m                                 Traceback (most recent call last)",
      "\u001b[1;32m<ipython-input-1-6a1284577a36>\u001b[0m in \u001b[0;36m<module>\u001b[1;34m\u001b[0m\n\u001b[1;32m----> 1\u001b[1;33m \u001b[0ma\u001b[0m\u001b[1;33m[\u001b[0m\u001b[1;36m0\u001b[0m\u001b[1;33m]\u001b[0m\u001b[1;33m\u001b[0m\u001b[1;33m\u001b[0m\u001b[0m\n\u001b[0m",
      "\u001b[1;31mNameError\u001b[0m: name 'a' is not defined"
     ]
    }
   ],
   "source": []
  }
 ],
 "metadata": {
  "kernelspec": {
   "display_name": "Python 3",
   "language": "python",
   "name": "python3"
  },
  "language_info": {
   "codemirror_mode": {
    "name": "ipython",
    "version": 3
   },
   "file_extension": ".py",
   "mimetype": "text/x-python",
   "name": "python",
   "nbconvert_exporter": "python",
   "pygments_lexer": "ipython3",
   "version": "3.7.3"
  }
 },
 "nbformat": 4,
 "nbformat_minor": 2
}
