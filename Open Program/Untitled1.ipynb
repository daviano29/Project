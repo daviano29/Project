{
 "cells": [
  {
   "cell_type": "code",
   "execution_count": 1,
   "metadata": {},
   "outputs": [],
   "source": [
    "import numpy as np\n",
    "import pandas as pd\n"
   ]
  },
  {
   "cell_type": "code",
   "execution_count": 2,
   "metadata": {},
   "outputs": [
    {
     "name": "stdout",
     "output_type": "stream",
     "text": [
      "Numpy version : 1.16.4\n",
      "Pandas Version : 0.23.4\n"
     ]
    }
   ],
   "source": [
    "print('Numpy version :',np.__version__)\n",
    "print('Pandas Version :',pd.__version__)"
   ]
  },
  {
   "cell_type": "code",
   "execution_count": 3,
   "metadata": {},
   "outputs": [
    {
     "data": {
      "text/html": [
       "<div>\n",
       "<style scoped>\n",
       "    .dataframe tbody tr th:only-of-type {\n",
       "        vertical-align: middle;\n",
       "    }\n",
       "\n",
       "    .dataframe tbody tr th {\n",
       "        vertical-align: top;\n",
       "    }\n",
       "\n",
       "    .dataframe thead th {\n",
       "        text-align: right;\n",
       "    }\n",
       "</style>\n",
       "<table border=\"1\" class=\"dataframe\">\n",
       "  <thead>\n",
       "    <tr style=\"text-align: right;\">\n",
       "      <th></th>\n",
       "      <th>year</th>\n",
       "      <th>state</th>\n",
       "      <th>month</th>\n",
       "      <th>number_accident</th>\n",
       "      <th>date</th>\n",
       "      <th>month_number</th>\n",
       "      <th>state_code</th>\n",
       "    </tr>\n",
       "  </thead>\n",
       "  <tbody>\n",
       "    <tr>\n",
       "      <th>0</th>\n",
       "      <td>1998</td>\n",
       "      <td>Acre</td>\n",
       "      <td>January</td>\n",
       "      <td>0.0</td>\n",
       "      <td>1998-01-01</td>\n",
       "      <td>1.0</td>\n",
       "      <td>0</td>\n",
       "    </tr>\n",
       "    <tr>\n",
       "      <th>1</th>\n",
       "      <td>1999</td>\n",
       "      <td>Acre</td>\n",
       "      <td>January</td>\n",
       "      <td>0.0</td>\n",
       "      <td>1999-01-01</td>\n",
       "      <td>1.0</td>\n",
       "      <td>0</td>\n",
       "    </tr>\n",
       "    <tr>\n",
       "      <th>2</th>\n",
       "      <td>2000</td>\n",
       "      <td>Acre</td>\n",
       "      <td>January</td>\n",
       "      <td>0.0</td>\n",
       "      <td>2000-01-01</td>\n",
       "      <td>1.0</td>\n",
       "      <td>0</td>\n",
       "    </tr>\n",
       "    <tr>\n",
       "      <th>3</th>\n",
       "      <td>2001</td>\n",
       "      <td>Acre</td>\n",
       "      <td>January</td>\n",
       "      <td>0.0</td>\n",
       "      <td>2001-01-01</td>\n",
       "      <td>1.0</td>\n",
       "      <td>0</td>\n",
       "    </tr>\n",
       "    <tr>\n",
       "      <th>4</th>\n",
       "      <td>2002</td>\n",
       "      <td>Acre</td>\n",
       "      <td>January</td>\n",
       "      <td>0.0</td>\n",
       "      <td>2002-01-01</td>\n",
       "      <td>1.0</td>\n",
       "      <td>0</td>\n",
       "    </tr>\n",
       "  </tbody>\n",
       "</table>\n",
       "</div>"
      ],
      "text/plain": [
       "   year state    month  number_accident        date  month_number  state_code\n",
       "0  1998  Acre  January              0.0  1998-01-01           1.0           0\n",
       "1  1999  Acre  January              0.0  1999-01-01           1.0           0\n",
       "2  2000  Acre  January              0.0  2000-01-01           1.0           0\n",
       "3  2001  Acre  January              0.0  2001-01-01           1.0           0\n",
       "4  2002  Acre  January              0.0  2002-01-01           1.0           0"
      ]
     },
     "execution_count": 3,
     "metadata": {},
     "output_type": "execute_result"
    }
   ],
   "source": [
    "df = pd.read_csv(r\"C:\\Users\\HP\\Desktop\\Datasets/amazon_cleaned.csv\", \n",
    "                 encoding='UTF-8', sep=',', skiprows=0, index_col=False)\n",
    "df.drop(['number'],axis=1,inplace=True)\n",
    "data = pd.DataFrame(df)\n",
    "\n",
    "df.head(5)"
   ]
  },
  {
   "cell_type": "code",
   "execution_count": 4,
   "metadata": {},
   "outputs": [
    {
     "data": {
      "text/plain": [
       "array(['Acre', 'Alagoas', 'Amapa', 'Amazonas', 'Bahia', 'Ceara',\n",
       "       'Distrito Federal', 'Espirito Santo', 'Goias', 'Maranhao',\n",
       "       'Mato Grosso', 'Minas Gerais', 'Pará', 'Paraiba', 'Pernambuco',\n",
       "       'Piau', 'Rio', 'Rondonia', 'Roraima', 'Santa Catarina',\n",
       "       'Sao Paulo', 'Sergipe', 'Tocantins'], dtype=object)"
      ]
     },
     "execution_count": 4,
     "metadata": {},
     "output_type": "execute_result"
    }
   ],
   "source": [
    "df['state'].unique()"
   ]
  },
  {
   "cell_type": "code",
   "execution_count": 5,
   "metadata": {},
   "outputs": [
    {
     "data": {
      "text/html": [
       "<div>\n",
       "<style scoped>\n",
       "    .dataframe tbody tr th:only-of-type {\n",
       "        vertical-align: middle;\n",
       "    }\n",
       "\n",
       "    .dataframe tbody tr th {\n",
       "        vertical-align: top;\n",
       "    }\n",
       "\n",
       "    .dataframe thead th {\n",
       "        text-align: right;\n",
       "    }\n",
       "</style>\n",
       "<table border=\"1\" class=\"dataframe\">\n",
       "  <thead>\n",
       "    <tr style=\"text-align: right;\">\n",
       "      <th></th>\n",
       "      <th>year</th>\n",
       "      <th>number_accident</th>\n",
       "      <th>month_number</th>\n",
       "      <th>state_code</th>\n",
       "    </tr>\n",
       "  </thead>\n",
       "  <tbody>\n",
       "    <tr>\n",
       "      <th>year</th>\n",
       "      <td>1.000000</td>\n",
       "      <td>0.108525</td>\n",
       "      <td>-0.008130</td>\n",
       "      <td>-0.000277</td>\n",
       "    </tr>\n",
       "    <tr>\n",
       "      <th>number_accident</th>\n",
       "      <td>0.108525</td>\n",
       "      <td>1.000000</td>\n",
       "      <td>0.077727</td>\n",
       "      <td>0.061363</td>\n",
       "    </tr>\n",
       "    <tr>\n",
       "      <th>month_number</th>\n",
       "      <td>-0.008130</td>\n",
       "      <td>0.077727</td>\n",
       "      <td>1.000000</td>\n",
       "      <td>0.000271</td>\n",
       "    </tr>\n",
       "    <tr>\n",
       "      <th>state_code</th>\n",
       "      <td>-0.000277</td>\n",
       "      <td>0.061363</td>\n",
       "      <td>0.000271</td>\n",
       "      <td>1.000000</td>\n",
       "    </tr>\n",
       "  </tbody>\n",
       "</table>\n",
       "</div>"
      ],
      "text/plain": [
       "                     year  number_accident  month_number  state_code\n",
       "year             1.000000         0.108525     -0.008130   -0.000277\n",
       "number_accident  0.108525         1.000000      0.077727    0.061363\n",
       "month_number    -0.008130         0.077727      1.000000    0.000271\n",
       "state_code      -0.000277         0.061363      0.000271    1.000000"
      ]
     },
     "execution_count": 5,
     "metadata": {},
     "output_type": "execute_result"
    }
   ],
   "source": [
    "#See the correlation Between The column using Kendall Method\n",
    "df.corr(method='kendall')\n",
    "#As a comparison i also going to use heat map to see the comparison between this table and the heat map that i'have made "
   ]
  },
  {
   "cell_type": "code",
   "execution_count": 33,
   "metadata": {},
   "outputs": [
    {
     "data": {
      "image/png": "[encoded data removed]",
      "text/plain": [
       "<Figure size 432x288 with 2 Axes>"
      ]
     },
     "metadata": {},
     "output_type": "display_data"
    }
   ],
   "source": [
    "import seaborn as sns\n",
    "import matplotlib.pyplot as plt\n",
    "cor=['year','month_number','state_code','number_accident']\n",
    "cm = np.corrcoef(df[cor].values,rowvar=0)\n",
    "sns.set(font_scale=1.5)\n",
    "hm = sns.heatmap(cm,\n",
    "    cbar=True,\n",
    "    annot=True,\n",
    "    square=True,\n",
    "    fmt='.2f',\n",
    "    annot_kws={'size': 15},\n",
    "    yticklabels=cor,\n",
    "    xticklabels=cor)\n",
    "plt.show()\n",
    "#So i am going to predict number of the accident based on state_code,month,and year"
   ]
  },
  {
   "cell_type": "markdown",
   "metadata": {},
   "source": [
    "# Start Training The Dataset"
   ]
  },
  {
   "cell_type": "code",
   "execution_count": 7,
   "metadata": {},
   "outputs": [],
   "source": [
    "#Lock the datasets\n",
    "from sklearn.model_selection import train_test_split\n",
    "x = df.loc[:,['year','month_number','state_code']].values\n",
    "y = df.loc[:,['number_accident']].values\n"
   ]
  },
  {
   "cell_type": "code",
   "execution_count": 8,
   "metadata": {},
   "outputs": [
    {
     "name": "stdout",
     "output_type": "stream",
     "text": [
      "Train shape: (5163, 3) (5163, 1)\n",
      "Test shape: (1291, 3) (1291, 1)\n"
     ]
    }
   ],
   "source": [
    "#feature splitting the datasets\n",
    "from sklearn.preprocessing import StandardScaler\n",
    "x_train, x_test, y_train, y_test = train_test_split(x, y, test_size=.2)\n",
    "sc_x =StandardScaler()\n",
    "sc_x.fit(x_train)\n",
    "print('Train shape:', x_train.shape, y_train.shape)\n",
    "print('Test shape:', x_test.shape, y_test.shape)"
   ]
  },
  {
   "cell_type": "markdown",
   "metadata": {},
   "source": [
    "# Linear Regression "
   ]
  },
  {
   "cell_type": "code",
   "execution_count": 9,
   "metadata": {},
   "outputs": [],
   "source": [
    "#Define Model\n",
    "from sklearn.linear_model import LinearRegression\n",
    "reg= LinearRegression()\n",
    "lin= reg.fit(x_train,y_train)"
   ]
  },
  {
   "cell_type": "code",
   "execution_count": 10,
   "metadata": {},
   "outputs": [
    {
     "name": "stdout",
     "output_type": "stream",
     "text": [
      "[[121.85102021]\n",
      " [ 58.78677224]\n",
      " [156.2686928 ]\n",
      " ...\n",
      " [ 55.60776308]\n",
      " [ 93.70537674]\n",
      " [163.41309605]]\n"
     ]
    }
   ],
   "source": [
    "#Predict The Result\n",
    "y_pred= reg.predict(x_test)\n",
    "print(y_pred)"
   ]
  },
  {
   "cell_type": "code",
   "execution_count": 11,
   "metadata": {},
   "outputs": [
    {
     "name": "stdout",
     "output_type": "stream",
     "text": [
      "[-4107.6909666]\n",
      "[[2.06468248 9.8224805  0.84662013]]\n"
     ]
    }
   ],
   "source": [
    "#To retrieve the intercept:\n",
    "print(reg.intercept_)\n",
    "#For retrieving the slope:\n",
    "print(reg.coef_)"
   ]
  },
  {
   "cell_type": "code",
   "execution_count": 12,
   "metadata": {},
   "outputs": [
    {
     "name": "stdout",
     "output_type": "stream",
     "text": [
      "Mean Absolute Error: 120.47074991138713\n",
      "Root Mean Squared Error: 182.0988730085601\n",
      "R2 error 0.011856564626111066\n"
     ]
    }
   ],
   "source": [
    "#Evaluate Model\n",
    "from sklearn import metrics\n",
    "print('Mean Absolute Error:', metrics.mean_absolute_error(y_test, y_pred))\n",
    "print('Root Mean Squared Error:', np.sqrt(metrics.mean_squared_error(y_test, y_pred)))\n",
    "r_squarev = reg.score(x_test, y_test)\n",
    "print(\"R2 error\", r_squarev)"
   ]
  },
  {
   "cell_type": "code",
   "execution_count": 13,
   "metadata": {},
   "outputs": [
    {
     "data": {
      "text/plain": [
       "array([[ 30.],\n",
       "       [  0.],\n",
       "       [110.],\n",
       "       ...,\n",
       "       [ 24.],\n",
       "       [ 62.],\n",
       "       [149.]])"
      ]
     },
     "execution_count": 13,
     "metadata": {},
     "output_type": "execute_result"
    }
   ],
   "source": [
    "y_test"
   ]
  },
  {
   "cell_type": "code",
   "execution_count": 14,
   "metadata": {},
   "outputs": [
    {
     "data": {
      "text/plain": [
       "array([[121.85102021],\n",
       "       [ 58.78677224],\n",
       "       [156.2686928 ],\n",
       "       ...,\n",
       "       [ 55.60776308],\n",
       "       [ 93.70537674],\n",
       "       [163.41309605]])"
      ]
     },
     "execution_count": 14,
     "metadata": {},
     "output_type": "execute_result"
    }
   ],
   "source": [
    "y_pred"
   ]
  },
  {
   "cell_type": "code",
   "execution_count": 15,
   "metadata": {},
   "outputs": [
    {
     "name": "stdout",
     "output_type": "stream",
     "text": [
      "Accuracy: 3.52\n"
     ]
    }
   ],
   "source": [
    "#Showing Accuracy\n",
    "print('Accuracy: %2.2f' % (reg.score(x_train, y_train)*100))"
   ]
  },
  {
   "cell_type": "code",
   "execution_count": 16,
   "metadata": {},
   "outputs": [
    {
     "data": {
      "text/html": [
       "<div>\n",
       "<style scoped>\n",
       "    .dataframe tbody tr th:only-of-type {\n",
       "        vertical-align: middle;\n",
       "    }\n",
       "\n",
       "    .dataframe tbody tr th {\n",
       "        vertical-align: top;\n",
       "    }\n",
       "\n",
       "    .dataframe thead th {\n",
       "        text-align: right;\n",
       "    }\n",
       "</style>\n",
       "<table border=\"1\" class=\"dataframe\">\n",
       "  <thead>\n",
       "    <tr style=\"text-align: right;\">\n",
       "      <th></th>\n",
       "      <th>actual_result</th>\n",
       "      <th>predicted_result</th>\n",
       "    </tr>\n",
       "  </thead>\n",
       "  <tbody>\n",
       "    <tr>\n",
       "      <th>0</th>\n",
       "      <td>30.000</td>\n",
       "      <td>121.851020</td>\n",
       "    </tr>\n",
       "    <tr>\n",
       "      <th>1</th>\n",
       "      <td>0.000</td>\n",
       "      <td>58.786772</td>\n",
       "    </tr>\n",
       "    <tr>\n",
       "      <th>2</th>\n",
       "      <td>110.000</td>\n",
       "      <td>156.268693</td>\n",
       "    </tr>\n",
       "    <tr>\n",
       "      <th>3</th>\n",
       "      <td>17.000</td>\n",
       "      <td>120.995673</td>\n",
       "    </tr>\n",
       "    <tr>\n",
       "      <th>4</th>\n",
       "      <td>2.165</td>\n",
       "      <td>151.292708</td>\n",
       "    </tr>\n",
       "    <tr>\n",
       "      <th>5</th>\n",
       "      <td>27.000</td>\n",
       "      <td>124.416635</td>\n",
       "    </tr>\n",
       "    <tr>\n",
       "      <th>6</th>\n",
       "      <td>345.000</td>\n",
       "      <td>99.744180</td>\n",
       "    </tr>\n",
       "    <tr>\n",
       "      <th>7</th>\n",
       "      <td>115.000</td>\n",
       "      <td>162.963672</td>\n",
       "    </tr>\n",
       "    <tr>\n",
       "      <th>8</th>\n",
       "      <td>3.000</td>\n",
       "      <td>166.583378</td>\n",
       "    </tr>\n",
       "    <tr>\n",
       "      <th>9</th>\n",
       "      <td>1.284</td>\n",
       "      <td>116.814800</td>\n",
       "    </tr>\n",
       "  </tbody>\n",
       "</table>\n",
       "</div>"
      ],
      "text/plain": [
       "   actual_result  predicted_result\n",
       "0         30.000        121.851020\n",
       "1          0.000         58.786772\n",
       "2        110.000        156.268693\n",
       "3         17.000        120.995673\n",
       "4          2.165        151.292708\n",
       "5         27.000        124.416635\n",
       "6        345.000         99.744180\n",
       "7        115.000        162.963672\n",
       "8          3.000        166.583378\n",
       "9          1.284        116.814800"
      ]
     },
     "execution_count": 16,
     "metadata": {},
     "output_type": "execute_result"
    }
   ],
   "source": [
    "#Make the flatten variable sice my result is 2 dimensional array\n",
    "y_test_flatten = np.concatenate(y_test)\n",
    "y_pred_flatten = np.concatenate(y_pred)\n",
    "df_compare = pd.DataFrame({'actual_result':y_test_flatten, 'predicted_result':y_pred_flatten})\n",
    "df_compare.head(10)"
   ]
  },
  {
   "cell_type": "code",
   "execution_count": 17,
   "metadata": {},
   "outputs": [
    {
     "data": {
      "image/png": "[encoded data removed]",
      "text/plain": [
       "<Figure size 1152x720 with 1 Axes>"
      ]
     },
     "metadata": {
      "needs_background": "light"
     },
     "output_type": "display_data"
    }
   ],
   "source": [
    "#Visualize the prediction\n",
    "df1 = df_compare.head(40)\n",
    "df1.plot(kind='bar',figsize=(16,10))\n",
    "plt.grid(which='major', linestyle='-', linewidth='0.5', color='green')\n",
    "plt.grid(which='minor', linestyle=':', linewidth='0.5', color='black')\n",
    "plt.show()\n",
    "# We will see 25 values for Predicted value as actual dataset is pretty low"
   ]
  },
  {
   "cell_type": "code",
   "execution_count": 18,
   "metadata": {},
   "outputs": [
    {
     "name": "stdout",
     "output_type": "stream",
     "text": [
      "Number of accident in January 2020 in acre, Linear Regression :  [[72.79012571]]\n",
      "Number of accident in April 2021 in Bahia, Linear Regression :  [[107.7087302]]\n",
      "Number of accident in October 2022 in Manto Grosso, Linear Regression :  [[173.78801646]]\n"
     ]
    }
   ],
   "source": [
    "## Predict Using Linear Regression \n",
    "\n",
    "# We will predict the result of forest fire in January 2020 in area code 0 which is Acre\n",
    "test1 = lin.predict([[2020, 1,0]])\n",
    "print(\"Number of accident in January 2020 in acre, Linear Regression : \", test1)\n",
    "#The result says that will be 74 forest fire in Acre in January 2020\n",
    "\n",
    "# We will predict the result of forest fire in April 2020 in area code 4 which is Bahia\n",
    "test2 = lin.predict([[2021, 4,4]])\n",
    "print(\"Number of accident in April 2021 in Bahia, Linear Regression : \", test2)\n",
    "#The result says that will be 99 forest fire in Bahia in April 2021\n",
    "\n",
    "# We will predict the result of forest fire in October 2022 in area code 10 which is Manto Grosso\n",
    "test3 = lin.predict([[2022, 10,10]])\n",
    "print(\"Number of accident in October 2022 in Manto Grosso, Linear Regression : \", test3)\n",
    "#The result says that will be 174 forest fire in Manto Grosso in October 2022\n",
    "\n",
    "\n",
    "\n"
   ]
  },
  {
   "cell_type": "markdown",
   "metadata": {},
   "source": [
    "# Using Decision Tree Regression"
   ]
  },
  {
   "cell_type": "code",
   "execution_count": 19,
   "metadata": {},
   "outputs": [
    {
     "data": {
      "text/plain": [
       "array([ 35.31984829,  35.31984829,  84.22106215, ...,  84.22106215,\n",
       "       152.98969192,  84.22106215])"
      ]
     },
     "execution_count": 19,
     "metadata": {},
     "output_type": "execute_result"
    }
   ],
   "source": [
    "#Using decision tree to predict the outcome of forest fire and train and split the data\n",
    "from sklearn import tree\n",
    "\n",
    "x1_train, x1_test, y1_train, y1_test = train_test_split(x, y, test_size=.2)\n",
    "clfo = tree.DecisionTreeRegressor(max_depth=2)\n",
    "modelclfo = clfo.fit(x1_train, y1_train)\n",
    "\n",
    "pred2 = modelclfo.predict(x1_test)\n",
    "\n",
    "pred2"
   ]
  },
  {
   "cell_type": "code",
   "execution_count": 20,
   "metadata": {},
   "outputs": [
    {
     "data": {
      "text/html": [
       "<div>\n",
       "<style scoped>\n",
       "    .dataframe tbody tr th:only-of-type {\n",
       "        vertical-align: middle;\n",
       "    }\n",
       "\n",
       "    .dataframe tbody tr th {\n",
       "        vertical-align: top;\n",
       "    }\n",
       "\n",
       "    .dataframe thead th {\n",
       "        text-align: right;\n",
       "    }\n",
       "</style>\n",
       "<table border=\"1\" class=\"dataframe\">\n",
       "  <thead>\n",
       "    <tr style=\"text-align: right;\">\n",
       "      <th></th>\n",
       "      <th>Actual</th>\n",
       "      <th>Predicted</th>\n",
       "    </tr>\n",
       "  </thead>\n",
       "  <tbody>\n",
       "    <tr>\n",
       "      <th>0</th>\n",
       "      <td>384.000</td>\n",
       "      <td>35.319848</td>\n",
       "    </tr>\n",
       "    <tr>\n",
       "      <th>1</th>\n",
       "      <td>1.000</td>\n",
       "      <td>35.319848</td>\n",
       "    </tr>\n",
       "    <tr>\n",
       "      <th>2</th>\n",
       "      <td>55.000</td>\n",
       "      <td>84.221062</td>\n",
       "    </tr>\n",
       "    <tr>\n",
       "      <th>3</th>\n",
       "      <td>19.000</td>\n",
       "      <td>84.221062</td>\n",
       "    </tr>\n",
       "    <tr>\n",
       "      <th>4</th>\n",
       "      <td>60.000</td>\n",
       "      <td>84.221062</td>\n",
       "    </tr>\n",
       "    <tr>\n",
       "      <th>5</th>\n",
       "      <td>0.000</td>\n",
       "      <td>84.221062</td>\n",
       "    </tr>\n",
       "    <tr>\n",
       "      <th>6</th>\n",
       "      <td>1.996</td>\n",
       "      <td>152.989692</td>\n",
       "    </tr>\n",
       "    <tr>\n",
       "      <th>7</th>\n",
       "      <td>1.461</td>\n",
       "      <td>152.989692</td>\n",
       "    </tr>\n",
       "    <tr>\n",
       "      <th>8</th>\n",
       "      <td>32.000</td>\n",
       "      <td>84.221062</td>\n",
       "    </tr>\n",
       "    <tr>\n",
       "      <th>9</th>\n",
       "      <td>3.481</td>\n",
       "      <td>152.989692</td>\n",
       "    </tr>\n",
       "  </tbody>\n",
       "</table>\n",
       "</div>"
      ],
      "text/plain": [
       "    Actual   Predicted\n",
       "0  384.000   35.319848\n",
       "1    1.000   35.319848\n",
       "2   55.000   84.221062\n",
       "3   19.000   84.221062\n",
       "4   60.000   84.221062\n",
       "5    0.000   84.221062\n",
       "6    1.996  152.989692\n",
       "7    1.461  152.989692\n",
       "8   32.000   84.221062\n",
       "9    3.481  152.989692"
      ]
     },
     "execution_count": 20,
     "metadata": {},
     "output_type": "execute_result"
    }
   ],
   "source": [
    "# Make the flatten variable in order to change into 1 dimensional array\n",
    "y1_test_flatten = np.concatenate(y1_test)\n",
    "\n",
    "dfclfo = pd.DataFrame({'Actual':y1_test.flatten(), 'Predicted':pred2.flatten()}) \n",
    "dfclfo.head(10)"
   ]
  },
  {
   "cell_type": "code",
   "execution_count": 21,
   "metadata": {},
   "outputs": [
    {
     "name": "stderr",
     "output_type": "stream",
     "text": [
      "C:\\Users\\HP\\Anaconda3\\lib\\site-packages\\sklearn\\externals\\six.py:31: DeprecationWarning: The module is deprecated in version 0.21 and will be removed in version 0.23 since we've dropped support for Python 2.7. Please rely on the official version of six (https://pypi.org/project/six/).\n",
      "  \"(https://pypi.org/project/six/).\", DeprecationWarning)\n"
     ]
    },
    {
     "data": {
      "image/png": "[encoded data removed]",
      "text/plain": [
       "<IPython.core.display.Image object>"
      ]
     },
     "execution_count": 21,
     "metadata": {},
     "output_type": "execute_result"
    }
   ],
   "source": [
    "#Show the decision tree\n",
    "from sklearn.externals.six import StringIO  \n",
    "from IPython.display import Image  \n",
    "from sklearn.tree import export_graphviz\n",
    "import pydotplus\n",
    "dot_data = StringIO()\n",
    "export_graphviz(modelclfo, out_file=dot_data,  \n",
    "                filled=True, rounded=True,\n",
    "                special_characters=True)\n",
    "graph = pydotplus.graph_from_dot_data(dot_data.getvalue())  \n",
    "Image(graph.create_png())"
   ]
  },
  {
   "cell_type": "code",
   "execution_count": 22,
   "metadata": {},
   "outputs": [
    {
     "name": "stdout",
     "output_type": "stream",
     "text": [
      "Mean Absolute Error: 123.39036780737953\n",
      "Root Mean Squared Error: 187.6840050797974\n",
      "R2 error 0.0328475356891319\n"
     ]
    }
   ],
   "source": [
    "#Evaluate Model\n",
    "from sklearn import metrics\n",
    "print('Mean Absolute Error:', metrics.mean_absolute_error(y1_test, pred2))\n",
    "print('Root Mean Squared Error:', np.sqrt(metrics.mean_squared_error(y1_test, pred2)))\n",
    "r1_squarev = reg.score(x1_test, y1_test)\n",
    "print(\"R2 error\", r1_squarev)"
   ]
  },
  {
   "cell_type": "code",
   "execution_count": 23,
   "metadata": {},
   "outputs": [
    {
     "name": "stdout",
     "output_type": "stream",
     "text": [
      "Number of Accident in January 2020 in Acre, Decision Tree Regressor :  [35.31984829]\n",
      "Number of Accident in April 2020 in Bahia, Decision Tree Regressor :  [35.31984829]\n",
      "Number of Accident in October 2022 in Mato Grosso, Decision Tree Regressor :  [152.98969192]\n"
     ]
    }
   ],
   "source": [
    "# We will predict the result of forest fire in January 2020 in area code 0 which is Acre\n",
    "Tree1 = modelclfo.predict([[2020, 1,0]])\n",
    "print(\"Number of Accident in January 2020 in Acre, Decision Tree Regressor : \", Tree1)\n",
    "#The result says that will be 34 forest fire in Acre in January 2020\n",
    "\n",
    "# We will predict the result of forest fire in April 2020 in area code 4 which is Bahia\n",
    "Tree2 = modelclfo.predict([[2020, 4,4]])\n",
    "print(\"Number of Accident in April 2020 in Bahia, Decision Tree Regressor : \", Tree2)\n",
    "#The result says that will be 34 forest fire in Bahia in April 2021\n",
    "\n",
    "# We will predict the result of forest fire in October 2022 in area code 10 which is Manto Grosso\n",
    "Tree3 = modelclfo.predict([[2022, 10,10]])\n",
    "print(\"Number of Accident in October 2022 in Mato Grosso, Decision Tree Regressor : \", Tree3)\n",
    "#The result says that will be 156 forest fire in Manto Grosso in October 2022\n"
   ]
  },
  {
   "cell_type": "markdown",
   "metadata": {},
   "source": [
    "# KNN Regressor"
   ]
  },
  {
   "cell_type": "code",
   "execution_count": 24,
   "metadata": {},
   "outputs": [
    {
     "name": "stdout",
     "output_type": "stream",
     "text": [
      "Train shape: (5163, 3) (5163, 1)\n",
      "Test shape: (1291, 3) (1291, 1)\n"
     ]
    }
   ],
   "source": [
    "## Splitting the data and import necessary stuff\n",
    "\n",
    "from sklearn.neighbors import KNeighborsRegressor\n",
    "\n",
    "x2_train, x2_test, y2_train, y2_test = train_test_split(x, y, test_size=.2)\n",
    "\n",
    "sc_x2 =StandardScaler()\n",
    "sc_x2.fit(x2_train)\n",
    "x2_train= sc_x2.fit_transform(x2_train)\n",
    "x2_test= sc_x2.transform(x2_test)\n",
    "print('Train shape:', x2_train.shape, y2_train.shape)\n",
    "print('Test shape:', x2_test.shape, y2_test.shape)"
   ]
  },
  {
   "cell_type": "code",
   "execution_count": 25,
   "metadata": {},
   "outputs": [
    {
     "data": {
      "text/plain": [
       "array([[149.36363636],\n",
       "       [  9.81818182],\n",
       "       [261.20936364],\n",
       "       ...,\n",
       "       [172.36363636],\n",
       "       [ 28.54545455],\n",
       "       [216.09090909]])"
      ]
     },
     "execution_count": 25,
     "metadata": {},
     "output_type": "execute_result"
    }
   ],
   "source": [
    "#Define the model with KNN\n",
    "Regressor= KNeighborsRegressor(n_neighbors=11,p=2,metric='minkowski' )\n",
    "\n",
    "#Predict the test result\n",
    "\n",
    "Regressor.fit(x2_train ,y2_train)\n",
    "y2_pred= Regressor.predict(x2_test)\n",
    "y2_pred"
   ]
  },
  {
   "cell_type": "code",
   "execution_count": 26,
   "metadata": {},
   "outputs": [
    {
     "data": {
      "text/html": [
       "<div>\n",
       "<style scoped>\n",
       "    .dataframe tbody tr th:only-of-type {\n",
       "        vertical-align: middle;\n",
       "    }\n",
       "\n",
       "    .dataframe tbody tr th {\n",
       "        vertical-align: top;\n",
       "    }\n",
       "\n",
       "    .dataframe thead th {\n",
       "        text-align: right;\n",
       "    }\n",
       "</style>\n",
       "<table border=\"1\" class=\"dataframe\">\n",
       "  <thead>\n",
       "    <tr style=\"text-align: right;\">\n",
       "      <th></th>\n",
       "      <th>Actual</th>\n",
       "      <th>Predicted</th>\n",
       "    </tr>\n",
       "  </thead>\n",
       "  <tbody>\n",
       "    <tr>\n",
       "      <th>0</th>\n",
       "      <td>125.0</td>\n",
       "      <td>149.363636</td>\n",
       "    </tr>\n",
       "    <tr>\n",
       "      <th>1</th>\n",
       "      <td>18.0</td>\n",
       "      <td>9.818182</td>\n",
       "    </tr>\n",
       "    <tr>\n",
       "      <th>2</th>\n",
       "      <td>952.0</td>\n",
       "      <td>261.209364</td>\n",
       "    </tr>\n",
       "    <tr>\n",
       "      <th>3</th>\n",
       "      <td>1.0</td>\n",
       "      <td>108.272727</td>\n",
       "    </tr>\n",
       "    <tr>\n",
       "      <th>4</th>\n",
       "      <td>164.0</td>\n",
       "      <td>61.867909</td>\n",
       "    </tr>\n",
       "    <tr>\n",
       "      <th>5</th>\n",
       "      <td>55.0</td>\n",
       "      <td>28.454545</td>\n",
       "    </tr>\n",
       "    <tr>\n",
       "      <th>6</th>\n",
       "      <td>0.0</td>\n",
       "      <td>6.454545</td>\n",
       "    </tr>\n",
       "    <tr>\n",
       "      <th>7</th>\n",
       "      <td>9.0</td>\n",
       "      <td>2.000000</td>\n",
       "    </tr>\n",
       "    <tr>\n",
       "      <th>8</th>\n",
       "      <td>40.0</td>\n",
       "      <td>83.038545</td>\n",
       "    </tr>\n",
       "    <tr>\n",
       "      <th>9</th>\n",
       "      <td>3.3</td>\n",
       "      <td>112.012000</td>\n",
       "    </tr>\n",
       "  </tbody>\n",
       "</table>\n",
       "</div>"
      ],
      "text/plain": [
       "   Actual   Predicted\n",
       "0   125.0  149.363636\n",
       "1    18.0    9.818182\n",
       "2   952.0  261.209364\n",
       "3     1.0  108.272727\n",
       "4   164.0   61.867909\n",
       "5    55.0   28.454545\n",
       "6     0.0    6.454545\n",
       "7     9.0    2.000000\n",
       "8    40.0   83.038545\n",
       "9     3.3  112.012000"
      ]
     },
     "execution_count": 26,
     "metadata": {},
     "output_type": "execute_result"
    }
   ],
   "source": [
    "# Make the flatten variable in order to change into 1 dimensional array\n",
    "y2_test_flatten = np.concatenate(y2_test)\n",
    "y2_pred_flatten = np.concatenate(y2_pred)\n",
    "df_knn = pd.DataFrame({'Actual':y2_test.flatten(), 'Predicted':y2_pred.flatten()}) \n",
    "df_knn.head(10)"
   ]
  },
  {
   "cell_type": "code",
   "execution_count": 27,
   "metadata": {},
   "outputs": [
    {
     "name": "stdout",
     "output_type": "stream",
     "text": [
      "Mean Absolute Error: 115.94975487641715\n",
      "Root Mean Squared Error: 181.85465056797636\n",
      "R2 error 0.0328475356891319\n"
     ]
    }
   ],
   "source": [
    "#Evaluate Model\n",
    "from sklearn import metrics\n",
    "print('Mean Absolute Error:', metrics.mean_absolute_error(y2_test, y2_pred))\n",
    "print('Root Mean Squared Error:', np.sqrt(metrics.mean_squared_error(y2_test, y2_pred)))\n",
    "r2_squarev = reg.score(x2_test, y2_test)\n",
    "print(\"R2 error\", r1_squarev)"
   ]
  },
  {
   "cell_type": "code",
   "execution_count": 28,
   "metadata": {},
   "outputs": [
    {
     "data": {
      "image/png": "[encoded data removed]",
      "text/plain": [
       "<Figure size 1152x720 with 1 Axes>"
      ]
     },
     "metadata": {
      "needs_background": "light"
     },
     "output_type": "display_data"
    }
   ],
   "source": [
    "#Visualize the prediction\n",
    "df2 = df_knn.head(40)\n",
    "df2.plot(kind='bar',figsize=(16,10))\n",
    "plt.grid(which='major', linestyle='-', linewidth='0.5', color='green')\n",
    "plt.grid(which='minor', linestyle=':', linewidth='0.5', color='black')\n",
    "plt.show()\n",
    "# We will see 40 values for Predicted value as actual dataset is pretty low"
   ]
  },
  {
   "cell_type": "code",
   "execution_count": 29,
   "metadata": {},
   "outputs": [
    {
     "name": "stdout",
     "output_type": "stream",
     "text": [
      "Accident Number  1 :\n",
      "Number of Accident in January 2020 in Acre [[15.81818182]]\n",
      "Accident Number  1 :\n",
      "Number of Accident in April 2021 in Bahia [[20.72727273]]\n",
      "Accident Number  1 :\n",
      "Number of Accident in October 2022 in Mato Grosso [[164.66054545]]\n"
     ]
    }
   ],
   "source": [
    "#Start Predicting with Knn\n",
    "\n",
    "print(\"Accident Number  1 :\")\n",
    "# We will predict the result of forest fire in January 2020 in area code 0 which is Acre\n",
    "knn1 = sc_x2.transform([['2020','01','0']])\n",
    "print(\"Number of Accident in January 2020 in Acre\",Regressor.predict(knn1))\n",
    "#The result says that will be 24 forest fire in Acre in January 2020\n",
    "\n",
    "print(\"Accident Number  1 :\")\n",
    "# We will predict the result of forest fire in April 2021 in area code 4  which is Bahia\n",
    "knn2 = sc_x2.transform([['2021','04','4']])\n",
    "print(\"Number of Accident in April 2021 in Bahia\",Regressor.predict(knn2))\n",
    "#The result says that will be 24 forest fire in Acre in January 2020\n",
    "\n",
    "print(\"Accident Number  1 :\")\n",
    "# We will predict the result of forest fire in October 2022 in area code 10 which is Mato Grosso\n",
    "knn3 = sc_x2.transform([['2022','10','10']])\n",
    "print(\"Number of Accident in October 2022 in Mato Grosso\",Regressor.predict(knn3))\n",
    "#The result says that will be 24 forest fire in Acre in October 2022"
   ]
  },
  {
   "cell_type": "code",
   "execution_count": 30,
   "metadata": {},
   "outputs": [
    {
     "data": {
      "text/plain": [
       "year                 int64\n",
       "state               object\n",
       "month               object\n",
       "number_accident    float64\n",
       "date                object\n",
       "month_number       float64\n",
       "state_code           int64\n",
       "dtype: object"
      ]
     },
     "execution_count": 30,
     "metadata": {},
     "output_type": "execute_result"
    }
   ],
   "source": [
    "df.dtypes"
   ]
  }
 ],
 "metadata": {
  "kernelspec": {
   "display_name": "Python 3",
   "language": "python",
   "name": "python3"
  },
  "language_info": {
   "codemirror_mode": {
    "name": "ipython",
    "version": 3
   },
   "file_extension": ".py",
   "mimetype": "text/x-python",
   "name": "python",
   "nbconvert_exporter": "python",
   "pygments_lexer": "ipython3",
   "version": "3.7.3"
  }
 },
 "nbformat": 4,
 "nbformat_minor": 2
}
